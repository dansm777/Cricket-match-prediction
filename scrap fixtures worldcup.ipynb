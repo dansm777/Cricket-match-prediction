{
 "cells": [
  {
   "cell_type": "code",
   "execution_count": 33,
   "metadata": {},
   "outputs": [],
   "source": [
    "import urllib.request, re\n",
    "from html.parser import HTMLParser\n",
    "from bs4 import BeautifulSoup\n",
    "import sys\n",
    "import pandas as pd\n",
    "from urllib.request import urlopen\n",
    "import time\n",
    "from os import listdir \n",
    "from os.path import isfile,join\n",
    "import re\n",
    "#import selenium "
   ]
  },
  {
   "cell_type": "code",
   "execution_count": 2,
   "metadata": {},
   "outputs": [],
   "source": [
    "url=\"https://www.cricbuzz.com/cricket-series/2697/icc-cricket-world-cup-2019/matches\""
   ]
  },
  {
   "cell_type": "code",
   "execution_count": 3,
   "metadata": {},
   "outputs": [],
   "source": [
    "request = urllib.request.Request(url)\n",
    "page = urllib.request.urlopen(request).read()\n",
    "soup = BeautifulSoup(page, \"html.parser\")"
   ]
  },
  {
   "cell_type": "code",
   "execution_count": 13,
   "metadata": {},
   "outputs": [],
   "source": [
    "team=(soup.find_all('div', {'class': 'text-gray'}))"
   ]
  },
  {
   "cell_type": "code",
   "execution_count": 42,
   "metadata": {},
   "outputs": [
    {
     "name": "stdout",
     "output_type": "stream",
     "text": [
      "County Ground, Bristol\n"
     ]
    }
   ],
   "source": [
    "print(team[7].text)"
   ]
  },
  {
   "cell_type": "code",
   "execution_count": 6,
   "metadata": {},
   "outputs": [
    {
     "name": "stdout",
     "output_type": "stream",
     "text": [
      "09:30 AM GMT\t/ 10:30 AM LOCAL\n"
     ]
    }
   ],
   "source": [
    "print(team[2].text.split(\",\")[0].lstrip())"
   ]
  },
  {
   "cell_type": "code",
   "execution_count": 7,
   "metadata": {},
   "outputs": [],
   "source": [
    "teamc=(soup.find_all('div', {'class': 'cb-col-100 cb-col cb-series-brdr'}))"
   ]
  },
  {
   "cell_type": "code",
   "execution_count": 8,
   "metadata": {},
   "outputs": [
    {
     "name": "stdout",
     "output_type": "stream",
     "text": [
      "Windies vs Pakistan, Match 2Trent Bridge, Nottingham09:30 AM GMT\t/ 10:30 AM LOCAL\n"
     ]
    }
   ],
   "source": [
    "print(teamc[0].text)"
   ]
  },
  {
   "cell_type": "code",
   "execution_count": 9,
   "metadata": {},
   "outputs": [],
   "source": [
    "team_x=soup.find_all('div', {'class': 'cb-col-100 cb-col'})\n",
    "team_y=soup.find_all('div', {'class': 'cb-col-100 cb-col cb-series-brdr'})\n"
   ]
  },
  {
   "cell_type": "code",
   "execution_count": 10,
   "metadata": {},
   "outputs": [],
   "source": [
    "cols=[\"team1\",\"team2\",\"match_no\",\"stadium\"]"
   ]
  },
  {
   "cell_type": "code",
   "execution_count": 48,
   "metadata": {},
   "outputs": [],
   "source": [
    "li_data=[]"
   ]
  },
  {
   "cell_type": "code",
   "execution_count": 51,
   "metadata": {},
   "outputs": [
    {
     "name": "stdout",
     "output_type": "stream",
     "text": [
      "['England ', ' South Africa', 1, 'Kennington Oval, London']\n",
      "['Afghanistan ', ' Australia', 4, 'County Ground, Bristol']\n",
      "['Bangladesh ', ' New Zealand', 9, 'Kennington Oval, London']\n",
      "['Afghanistan ', ' New Zealand', 13, 'The Cooper Associates County Ground, Taunton']\n",
      "['South Africa ', ' Afghanistan', 21, 'Sophia Gardens, Cardiff']\n",
      "['Windies ', ' New Zealand', 29, 'Old Trafford, Manchester']\n",
      "['New Zealand ', ' Australia', 37, \"Lord's, London\"]\n",
      "['Australia ', ' South Africa', 45, 'Old Trafford, Manchester']\n"
     ]
    }
   ],
   "source": [
    "for i in range(len(team_x)):\n",
    "    li_ldata=[]\n",
    "    li=team_x[i].text.split(\",\")\n",
    "    #print(li)\n",
    "    li_t=li[0].lstrip().split(\"vs\")\n",
    "    #print(li_t)\n",
    "    li_ldata.append(li_t[0])\n",
    "    li_ldata.append(li_t[1])\n",
    "    stadium=str(li[1].replace(\"Match\",\"\").lstrip())\n",
    "    li_no=re.findall(r'\\d+', stadium)\n",
    "    if (len(li_no)==1):\n",
    "        ind=int(li_no[0])\n",
    "        li_ldata.append(ind)\n",
    "        #print(ind)\n",
    "        ind=1+2*(ind-1)\n",
    "        li_ldata.append(team[ind].text)\n",
    "        #print(team[ind].text)\n",
    "    print(li_ldata)\n",
    "    li_data.append(li_ldata)"
   ]
  },
  {
   "cell_type": "code",
   "execution_count": 52,
   "metadata": {},
   "outputs": [
    {
     "name": "stdout",
     "output_type": "stream",
     "text": [
      "['Windies ', ' Pakistan', 2, 'Trent Bridge, Nottingham']\n",
      "['New Zealand ', ' Sri Lanka', 3, 'Sophia Gardens, Cardiff']\n",
      "['South Africa ', ' Bangladesh', 5, 'Kennington Oval, London']\n",
      "['England ', ' Pakistan', 6, 'Trent Bridge, Nottingham']\n",
      "['Afghanistan ', ' Sri Lanka', 7, 'Sophia Gardens, Cardiff']\n",
      "['South Africa ', ' India', 8, 'The Rose Bowl, Southampton']\n",
      "['Australia ', ' Windies', 10, 'Trent Bridge, Nottingham']\n",
      "['Pakistan ', ' Sri Lanka', 11, 'County Ground, Bristol']\n",
      "['England ', ' Bangladesh', 12, 'Sophia Gardens, Cardiff']\n",
      "['India ', ' Australia', 14, 'Kennington Oval, London']\n",
      "['South Africa ', ' Windies', 15, 'The Rose Bowl, Southampton']\n",
      "['Bangladesh ', ' Sri Lanka', 16, 'County Ground, Bristol']\n",
      "['Australia ', ' Pakistan', 17, 'The Cooper Associates County Ground, Taunton']\n",
      "['India ', ' New Zealand', 18, 'Trent Bridge, Nottingham']\n",
      "['England ', ' Windies', 19, 'The Rose Bowl, Southampton']\n",
      "['Sri Lanka ', ' Australia', 20, 'Kennington Oval, London']\n",
      "['India ', ' Pakistan', 22, 'Old Trafford, Manchester']\n",
      "['Windies ', ' Bangladesh', 23, 'The Cooper Associates County Ground, Taunton']\n",
      "['England ', ' Afghanistan', 24, 'Old Trafford, Manchester']\n",
      "['New Zealand ', ' South Africa', 25, 'Edgbaston, Birmingham']\n",
      "['Australia ', ' Bangladesh', 26, 'Trent Bridge, Nottingham']\n",
      "['England ', ' Sri Lanka', 27, 'Headingley, Leeds']\n",
      "['India ', ' Afghanistan', 28, 'The Rose Bowl, Southampton']\n",
      "['Pakistan ', ' South Africa', 30, \"Lord's, London\"]\n",
      "['Bangladesh ', ' Afghanistan', 31, 'The Rose Bowl, Southampton']\n",
      "['England ', ' Australia', 32, \"Lord's, London\"]\n",
      "['New Zealand ', ' Pakistan', 33, 'Edgbaston, Birmingham']\n",
      "['Windies ', ' India', 34, 'Old Trafford, Manchester']\n",
      "['Sri Lanka ', ' South Africa', 35, 'Riverside Ground, Chester-le-Street']\n",
      "['Pakistan ', ' Afghanistan', 36, 'Headingley, Leeds']\n",
      "['England ', ' India', 38, 'Edgbaston, Birmingham']\n",
      "['Sri Lanka ', ' Windies', 39, 'Riverside Ground, Chester-le-Street']\n",
      "['Bangladesh ', ' India', 40, 'Edgbaston, Birmingham']\n",
      "['England ', ' New Zealand', 41, 'Riverside Ground, Chester-le-Street']\n",
      "['Afghanistan ', ' Windies', 42, 'Headingley, Leeds']\n",
      "['Pakistan ', ' Bangladesh', 43, \"Lord's, London\"]\n",
      "['Sri Lanka ', ' India', 44, 'Headingley, Leeds']\n",
      "['TBC ', ' TBC']\n",
      "['TBC ', ' TBC']\n",
      "['TBC ', ' TBC']\n"
     ]
    }
   ],
   "source": [
    "for i in range(len(team_y)):\n",
    "    li_ldata=[]\n",
    "    li=team_y[i].text.split(\",\")\n",
    "    #print(li)\n",
    "    li_t=li[0].lstrip().split(\"vs\")\n",
    "    li_ldata.append(li_t[0])\n",
    "    li_ldata.append(li_t[1])\n",
    "    stadium=str(li[1].replace(\"Match\",\"\"))\n",
    "    li_no=re.findall(r'\\d+', stadium)\n",
    "    if (len(li_no)==1):\n",
    "        ind=int(li_no[0])\n",
    "        li_ldata.append(ind)\n",
    "        #print(ind)\n",
    "        ind=1+2*(ind-1)\n",
    "        li_ldata.append(team[ind].text)\n",
    "        #print(team[ind].text)\n",
    "    print(li_ldata)\n",
    "    li_data.append(li_ldata)"
   ]
  },
  {
   "cell_type": "code",
   "execution_count": 26,
   "metadata": {},
   "outputs": [
    {
     "data": {
      "text/plain": [
       "[]"
      ]
     },
     "execution_count": 26,
     "metadata": {},
     "output_type": "execute_result"
    }
   ],
   "source": [
    "stadium\n",
    "[int(s) for s in stadium.split() if s.isdigit()]"
   ]
  },
  {
   "cell_type": "code",
   "execution_count": 53,
   "metadata": {},
   "outputs": [
    {
     "data": {
      "text/plain": [
       "[['England ', ' South Africa', 1, 'Kennington Oval, London'],\n",
       " ['Afghanistan ', ' Australia', 4, 'County Ground, Bristol'],\n",
       " ['Bangladesh ', ' New Zealand', 9, 'Kennington Oval, London'],\n",
       " ['Afghanistan ',\n",
       "  ' New Zealand',\n",
       "  13,\n",
       "  'The Cooper Associates County Ground, Taunton'],\n",
       " ['South Africa ', ' Afghanistan', 21, 'Sophia Gardens, Cardiff'],\n",
       " ['Windies ', ' New Zealand', 29, 'Old Trafford, Manchester'],\n",
       " ['New Zealand ', ' Australia', 37, \"Lord's, London\"],\n",
       " ['Australia ', ' South Africa', 45, 'Old Trafford, Manchester'],\n",
       " ['Windies ', ' Pakistan', 2, 'Trent Bridge, Nottingham'],\n",
       " ['New Zealand ', ' Sri Lanka', 3, 'Sophia Gardens, Cardiff'],\n",
       " ['South Africa ', ' Bangladesh', 5, 'Kennington Oval, London'],\n",
       " ['England ', ' Pakistan', 6, 'Trent Bridge, Nottingham'],\n",
       " ['Afghanistan ', ' Sri Lanka', 7, 'Sophia Gardens, Cardiff'],\n",
       " ['South Africa ', ' India', 8, 'The Rose Bowl, Southampton'],\n",
       " ['Australia ', ' Windies', 10, 'Trent Bridge, Nottingham'],\n",
       " ['Pakistan ', ' Sri Lanka', 11, 'County Ground, Bristol'],\n",
       " ['England ', ' Bangladesh', 12, 'Sophia Gardens, Cardiff'],\n",
       " ['India ', ' Australia', 14, 'Kennington Oval, London'],\n",
       " ['South Africa ', ' Windies', 15, 'The Rose Bowl, Southampton'],\n",
       " ['Bangladesh ', ' Sri Lanka', 16, 'County Ground, Bristol'],\n",
       " ['Australia ',\n",
       "  ' Pakistan',\n",
       "  17,\n",
       "  'The Cooper Associates County Ground, Taunton'],\n",
       " ['India ', ' New Zealand', 18, 'Trent Bridge, Nottingham'],\n",
       " ['England ', ' Windies', 19, 'The Rose Bowl, Southampton'],\n",
       " ['Sri Lanka ', ' Australia', 20, 'Kennington Oval, London'],\n",
       " ['India ', ' Pakistan', 22, 'Old Trafford, Manchester'],\n",
       " ['Windies ',\n",
       "  ' Bangladesh',\n",
       "  23,\n",
       "  'The Cooper Associates County Ground, Taunton'],\n",
       " ['England ', ' Afghanistan', 24, 'Old Trafford, Manchester'],\n",
       " ['New Zealand ', ' South Africa', 25, 'Edgbaston, Birmingham'],\n",
       " ['Australia ', ' Bangladesh', 26, 'Trent Bridge, Nottingham'],\n",
       " ['England ', ' Sri Lanka', 27, 'Headingley, Leeds'],\n",
       " ['India ', ' Afghanistan', 28, 'The Rose Bowl, Southampton'],\n",
       " ['Pakistan ', ' South Africa', 30, \"Lord's, London\"],\n",
       " ['Bangladesh ', ' Afghanistan', 31, 'The Rose Bowl, Southampton'],\n",
       " ['England ', ' Australia', 32, \"Lord's, London\"],\n",
       " ['New Zealand ', ' Pakistan', 33, 'Edgbaston, Birmingham'],\n",
       " ['Windies ', ' India', 34, 'Old Trafford, Manchester'],\n",
       " ['Sri Lanka ', ' South Africa', 35, 'Riverside Ground, Chester-le-Street'],\n",
       " ['Pakistan ', ' Afghanistan', 36, 'Headingley, Leeds'],\n",
       " ['England ', ' India', 38, 'Edgbaston, Birmingham'],\n",
       " ['Sri Lanka ', ' Windies', 39, 'Riverside Ground, Chester-le-Street'],\n",
       " ['Bangladesh ', ' India', 40, 'Edgbaston, Birmingham'],\n",
       " ['England ', ' New Zealand', 41, 'Riverside Ground, Chester-le-Street'],\n",
       " ['Afghanistan ', ' Windies', 42, 'Headingley, Leeds'],\n",
       " ['Pakistan ', ' Bangladesh', 43, \"Lord's, London\"],\n",
       " ['Sri Lanka ', ' India', 44, 'Headingley, Leeds'],\n",
       " ['TBC ', ' TBC'],\n",
       " ['TBC ', ' TBC'],\n",
       " ['TBC ', ' TBC']]"
      ]
     },
     "execution_count": 53,
     "metadata": {},
     "output_type": "execute_result"
    }
   ],
   "source": [
    "li_data"
   ]
  },
  {
   "cell_type": "code",
   "execution_count": 56,
   "metadata": {},
   "outputs": [
    {
     "name": "stdout",
     "output_type": "stream",
     "text": [
      "            team1          team2  match_no  \\\n",
      "0        England    South Africa       1.0   \n",
      "1    Afghanistan       Australia       4.0   \n",
      "2     Bangladesh     New Zealand       9.0   \n",
      "3    Afghanistan     New Zealand      13.0   \n",
      "4   South Africa     Afghanistan      21.0   \n",
      "5        Windies     New Zealand      29.0   \n",
      "6    New Zealand       Australia      37.0   \n",
      "7      Australia    South Africa      45.0   \n",
      "8        Windies        Pakistan       2.0   \n",
      "9    New Zealand       Sri Lanka       3.0   \n",
      "10  South Africa      Bangladesh       5.0   \n",
      "11       England        Pakistan       6.0   \n",
      "12   Afghanistan       Sri Lanka       7.0   \n",
      "13  South Africa           India       8.0   \n",
      "14     Australia         Windies      10.0   \n",
      "15      Pakistan       Sri Lanka      11.0   \n",
      "16       England      Bangladesh      12.0   \n",
      "17         India       Australia      14.0   \n",
      "18  South Africa         Windies      15.0   \n",
      "19    Bangladesh       Sri Lanka      16.0   \n",
      "20     Australia        Pakistan      17.0   \n",
      "21         India     New Zealand      18.0   \n",
      "22       England         Windies      19.0   \n",
      "23     Sri Lanka       Australia      20.0   \n",
      "24         India        Pakistan      22.0   \n",
      "25       Windies      Bangladesh      23.0   \n",
      "26       England     Afghanistan      24.0   \n",
      "27   New Zealand    South Africa      25.0   \n",
      "28     Australia      Bangladesh      26.0   \n",
      "29       England       Sri Lanka      27.0   \n",
      "30         India     Afghanistan      28.0   \n",
      "31      Pakistan    South Africa      30.0   \n",
      "32    Bangladesh     Afghanistan      31.0   \n",
      "33       England       Australia      32.0   \n",
      "34   New Zealand        Pakistan      33.0   \n",
      "35       Windies           India      34.0   \n",
      "36     Sri Lanka    South Africa      35.0   \n",
      "37      Pakistan     Afghanistan      36.0   \n",
      "38       England           India      38.0   \n",
      "39     Sri Lanka         Windies      39.0   \n",
      "40    Bangladesh           India      40.0   \n",
      "41       England     New Zealand      41.0   \n",
      "42   Afghanistan         Windies      42.0   \n",
      "43      Pakistan      Bangladesh      43.0   \n",
      "44     Sri Lanka           India      44.0   \n",
      "45           TBC             TBC       NaN   \n",
      "46           TBC             TBC       NaN   \n",
      "47           TBC             TBC       NaN   \n",
      "\n",
      "                                         stadium  \n",
      "0                        Kennington Oval, London  \n",
      "1                         County Ground, Bristol  \n",
      "2                        Kennington Oval, London  \n",
      "3   The Cooper Associates County Ground, Taunton  \n",
      "4                        Sophia Gardens, Cardiff  \n",
      "5                       Old Trafford, Manchester  \n",
      "6                                 Lord's, London  \n",
      "7                       Old Trafford, Manchester  \n",
      "8                       Trent Bridge, Nottingham  \n",
      "9                        Sophia Gardens, Cardiff  \n",
      "10                       Kennington Oval, London  \n",
      "11                      Trent Bridge, Nottingham  \n",
      "12                       Sophia Gardens, Cardiff  \n",
      "13                    The Rose Bowl, Southampton  \n",
      "14                      Trent Bridge, Nottingham  \n",
      "15                        County Ground, Bristol  \n",
      "16                       Sophia Gardens, Cardiff  \n",
      "17                       Kennington Oval, London  \n",
      "18                    The Rose Bowl, Southampton  \n",
      "19                        County Ground, Bristol  \n",
      "20  The Cooper Associates County Ground, Taunton  \n",
      "21                      Trent Bridge, Nottingham  \n",
      "22                    The Rose Bowl, Southampton  \n",
      "23                       Kennington Oval, London  \n",
      "24                      Old Trafford, Manchester  \n",
      "25  The Cooper Associates County Ground, Taunton  \n",
      "26                      Old Trafford, Manchester  \n",
      "27                         Edgbaston, Birmingham  \n",
      "28                      Trent Bridge, Nottingham  \n",
      "29                             Headingley, Leeds  \n",
      "30                    The Rose Bowl, Southampton  \n",
      "31                                Lord's, London  \n",
      "32                    The Rose Bowl, Southampton  \n",
      "33                                Lord's, London  \n",
      "34                         Edgbaston, Birmingham  \n",
      "35                      Old Trafford, Manchester  \n",
      "36           Riverside Ground, Chester-le-Street  \n",
      "37                             Headingley, Leeds  \n",
      "38                         Edgbaston, Birmingham  \n",
      "39           Riverside Ground, Chester-le-Street  \n",
      "40                         Edgbaston, Birmingham  \n",
      "41           Riverside Ground, Chester-le-Street  \n",
      "42                             Headingley, Leeds  \n",
      "43                                Lord's, London  \n",
      "44                             Headingley, Leeds  \n",
      "45                                          None  \n",
      "46                                          None  \n",
      "47                                          None  \n"
     ]
    }
   ],
   "source": [
    "op=pd.DataFrame(li_data)\n",
    "\n",
    "op.columns=[\"team1\",\"team2\",\"match_no\",\"stadium\"]\n",
    "print(op)"
   ]
  },
  {
   "cell_type": "code",
   "execution_count": 32,
   "metadata": {},
   "outputs": [
    {
     "data": {
      "text/plain": [
       "str"
      ]
     },
     "execution_count": 32,
     "metadata": {},
     "output_type": "execute_result"
    }
   ],
   "source": [
    "type(li[0])"
   ]
  },
  {
   "cell_type": "code",
   "execution_count": 58,
   "metadata": {},
   "outputs": [],
   "source": [
    "op.to_csv(\"worldcupmatches.csv\")"
   ]
  },
  {
   "cell_type": "code",
   "execution_count": null,
   "metadata": {},
   "outputs": [],
   "source": []
  }
 ],
 "metadata": {
  "kernelspec": {
   "display_name": "Python 3",
   "language": "python",
   "name": "python3"
  },
  "language_info": {
   "codemirror_mode": {
    "name": "ipython",
    "version": 3
   },
   "file_extension": ".py",
   "mimetype": "text/x-python",
   "name": "python",
   "nbconvert_exporter": "python",
   "pygments_lexer": "ipython3",
   "version": "3.7.2"
  }
 },
 "nbformat": 4,
 "nbformat_minor": 2
}
